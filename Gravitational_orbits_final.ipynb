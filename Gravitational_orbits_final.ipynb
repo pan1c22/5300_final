{
 "cells": [
  {
   "cell_type": "markdown",
   "metadata": {},
   "source": [
    "## Import Packages"
   ]
  },
  {
   "cell_type": "code",
   "execution_count": 1,
   "metadata": {},
   "outputs": [],
   "source": [
    "#import our packages\n",
    "import numpy as np\n",
    "import matplotlib.pyplot as plt \n",
    "from scipy.integrate import solve_ivp\n",
    "from IPython.display import Image"
   ]
  },
  {
   "cell_type": "markdown",
   "metadata": {},
   "source": [
    "## Make our orbits class"
   ]
  },
  {
   "cell_type": "code",
   "execution_count": 2,
   "metadata": {},
   "outputs": [],
   "source": [
    "class GravOrbits():\n",
    "    \"\"\"\n",
    "    Class creates parameters and uses Langrage's equations\n",
    "    \"\"\"\n",
    "    def __init__(self, m_1=1., m_2=1., G=1.):\n",
    "        self.m_1 = m_1\n",
    "        self.m_2 = m_2\n",
    "        self.G = G\n",
    "        \n",
    "    def dz_dt(self, t, z):\n",
    "        \"\"\"\n",
    "        Returns our dz/dt and dz^2/dt^2\n",
    "        \"\"\"\n",
    "        r_12 = np.sqrt((z[0] - z[4])**2 + (z[2] - z[6])**2)\n",
    "        \n",
    "        return [z[1], self.G * self.m_2 * (z[4] - z[0]) / r_12**3, \\\n",
    "                z[3], self.G * self.m_2 * (z[6] - z[2]) / r_12**3, \\\n",
    "                z[5], -self.G * self.m_1 * (z[4] - z[0]) / r_12**3, \\\n",
    "                z[7], -self.G * self.m_1 * (z[6] - z[2]) / r_12**3]\n",
    "                \n",
    "    def solve_ode(self, t_pts, z_0, abserr=1.0e-8, relerr=1.0e-8):\n",
    "        \"\"\"\n",
    "        Solves the right side of the ODE\n",
    "        \"\"\"\n",
    "        solution = solve_ivp(self.dz_dt, (t_pts[0], t_pts[-1]),\n",
    "                             z_0, t_eval=t_pts, method='RK23',\n",
    "                             atol=abserr, rtol=relerr)\n",
    "        x_1, x_dot_1, y_1, y_dot_1, x_2, x_dot_2, y_2, y_dot_2 = solution.y\n",
    "        \n",
    "        return x_1, x_dot_1, y_1, y_dot_1, x_2, x_dot_2, y_2, y_dot_2\n",
    "    \n",
    "\n",
    "    def solve_ode_Leapfrog_n(self, t_pts, z_0):\n",
    "        \"\"\"\n",
    "        Solves the ODE with Leapfrog but now for n points\n",
    "        \"\"\"\n",
    "        delta_t = t_pts[1] - t_pts[0]\n",
    "        \n",
    "        #create arrays\n",
    "        num_t_pts = len(t_pts)\n",
    "        n_tot = len(z_0)\n",
    "        z = np.zeros(shape=(n_tot, num_t_pts))\n",
    "        dot_half = np.zeros(int(n_tot/2))\n",
    "        \n",
    "        #inital conditions\n",
    "        z[:,0] = z_0\n",
    "        \n",
    "        #Differential equation time again\n",
    "        for i in np.arange(num_t_pts - 1):\n",
    "            t = t_pts[i]\n",
    "            \n",
    "            z_now = z[:,i]\n",
    "            out  = np.array(self.dz_dt(t, z_now))\n",
    "            \n",
    "            dot_half = z_now[1::2] + out[1::2] * delta_t/2.\n",
    "            z[0::2, i+1] = z_now[0::2] + dot_half * delta_t\n",
    "            \n",
    "            z_now[0::2] = z[0::2, i+1]\n",
    "            out = np.array(self.dz_dt(t, z_now))\n",
    "            \n",
    "            z[1::2, i+1] = dot_half + out[1::2] * delta_t/2.\n",
    "            \n",
    "        return z"
   ]
  },
  {
   "cell_type": "code",
   "execution_count": 3,
   "metadata": {},
   "outputs": [],
   "source": [
    "def plot_y_vs_x(x, y, axis_labels=None, label=None, title=None,\n",
    "                color=None, linestyle=None, semilogy=False, loglog=False, ax=None):\n",
    "    \"\"\"\n",
    "    Simple plotting function used from hints and previous notebooks\n",
    "    \"\"\"\n",
    "    if ax is None:\n",
    "        ax = plt.gca()\n",
    "    \n",
    "    if (semilogy):\n",
    "        line, = ax.semilogy(x, y, label=label, color=color, linestyle=linestyle)\n",
    "    \n",
    "    elif (loglog):\n",
    "        line, = ax.loglog(x, y, label=label, color=color, linestyle=linestyle)\n",
    "    \n",
    "    else:\n",
    "        line, = ax.plot(x, y, label=label, color=color, linestyle=linestyle)\n",
    "        \n",
    "    if label is not None:\n",
    "        ax.legend()\n",
    "    if title is not None:\n",
    "        ax.set_title(title)\n",
    "    if axis_labels is not None:\n",
    "        ax.set_xlabel(axis_labels[0])\n",
    "        ax.set_ylabel(axis_labels[1])\n",
    "        \n",
    "    return ax, line"
   ]
  },
  {
   "cell_type": "code",
   "execution_count": 4,
   "metadata": {},
   "outputs": [],
   "source": [
    "def start_stop_indices(t_pts, plot_start, plot_stop):\n",
    "    start_index = (np.fabs(t_pts-plot_start)).argmin()\n",
    "    stop_index = (np.fabs(t_pts-plot_stop)).argmin()\n",
    "    return start_index, stop_index"
   ]
  },
  {
   "cell_type": "markdown",
   "metadata": {},
   "source": [
    "## Start making some orbit plots"
   ]
  },
  {
   "cell_type": "code",
   "execution_count": 5,
   "metadata": {},
   "outputs": [],
   "source": [
    "#Labels\n",
    "orbit_labels = (r'$x$', r'$y$')\n",
    "\n",
    "#Plotting time\n",
    "t_start = 0.\n",
    "t_end = 10.\n",
    "delta_t = 0.01\n",
    "\n",
    "t_pts = np.arange(t_start, t_end+delta_t, delta_t)"
   ]
  },
  {
   "cell_type": "markdown",
   "metadata": {},
   "source": [
    "## Relatively close orbits"
   ]
  },
  {
   "cell_type": "code",
   "execution_count": 6,
   "metadata": {},
   "outputs": [
    {
     "data": {
      "image/png": "[encoded data removed]",
      "text/plain": [
       "<Figure size 360x360 with 1 Axes>"
      ]
     },
     "metadata": {
      "needs_background": "light"
     },
     "output_type": "display_data"
    }
   ],
   "source": [
    "#Plotting time\n",
    "t_start = 0.\n",
    "t_end = 10.\n",
    "delta_t = 0.01\n",
    "\n",
    "G = 1.\n",
    "m_1 = 1.\n",
    "m_2 = 6.\n",
    "\n",
    "#Create set of orbits\n",
    "o1 = GravOrbits(m_1, m_2, G)\n",
    "\n",
    "#Inital conditions (com velocity 0)\n",
    "x_1_0, x_dot_1_0 = 1., -1.\n",
    "y_1_0, y_dot_1_0 = 1., 1.\n",
    "x_2_0, x_dot_2_0 = -(m_1 / m_2) * x_1_0, -(m_1 / m_2) * x_dot_1_0\n",
    "y_2_0, y_dot_2_0 = -(m_1 / m_2) * y_1_0, -(m_1 / m_2) * y_dot_1_0\n",
    "\n",
    "z_0 = [x_1_0, x_dot_1_0, y_1_0, y_dot_1_0, x_2_0, x_dot_2_0, y_2_0, y_dot_2_0]\n",
    "x_1, x_dot_1, y_1, y_dot_1, x_2, x_dot_2, y_2, y_dot_2 = o1.solve_ode(t_pts, z_0)\n",
    "\n",
    "#start plotting\n",
    "fig = plt.figure(figsize=(5,5))\n",
    "\n",
    "#overall title ...\n",
    "\n",
    "#first plot: orbit\n",
    "ax = fig.add_subplot(1,1,1)\n",
    "\n",
    "start, stop = start_stop_indices(t_pts, t_start, t_end)\n",
    "ax.plot(x_1, y_1, color='blue', label=r'$m_1$')\n",
    "ax.plot(x_2, y_2, color='red', label=r'$m_2$')\n",
    "ax.set_title('Simple gravitational orbit')\n",
    "ax.legend()\n",
    "ax.set_aspect(1)\n",
    "\n",
    "fig.tight_layout()\n",
    "#fig.savefig('simple_orbits.png', bbox_inches='tight')"
   ]
  },
  {
   "cell_type": "markdown",
   "metadata": {},
   "source": [
    "## Do our more massive orbit"
   ]
  },
  {
   "cell_type": "code",
   "execution_count": 7,
   "metadata": {},
   "outputs": [
    {
     "name": "stderr",
     "output_type": "stream",
     "text": [
      "/home/idies/miniconda3/envs/py37/lib/python3.7/site-packages/ipykernel_launcher.py:36: UserWarning: Creating legend with loc=\"best\" can be slow with large amounts of data.\n",
      "/home/idies/miniconda3/envs/py37/lib/python3.7/site-packages/IPython/core/events.py:88: UserWarning: Creating legend with loc=\"best\" can be slow with large amounts of data.\n",
      "  func(*args, **kwargs)\n",
      "/home/idies/miniconda3/envs/py37/lib/python3.7/site-packages/IPython/core/pylabtools.py:128: UserWarning: Creating legend with loc=\"best\" can be slow with large amounts of data.\n",
      "  fig.canvas.print_figure(bytes_io, **kw)\n"
     ]
    },
    {
     "data": {
      "image/png": "[encoded data removed]",
      "text/plain": [
       "<Figure size 360x360 with 1 Axes>"
      ]
     },
     "metadata": {
      "needs_background": "light"
     },
     "output_type": "display_data"
    }
   ],
   "source": [
    "#Common plotting time\n",
    "t_start = 0.\n",
    "t_end = 20.\n",
    "delta_t = 0.0001\n",
    "\n",
    "t_pts = np.arange(t_start, t_end+delta_t, delta_t)\n",
    "G = 10.\n",
    "m_1 = 15.\n",
    "m_2 = 1.\n",
    "\n",
    "#Create set of orbits\n",
    "o1 = GravOrbits(m_1, m_2, G)\n",
    "\n",
    "#Inital conditions\n",
    "x_1_0, x_dot_1_0 = 0.1, 0.\n",
    "y_1_0, y_dot_1_0 = 0., 0.75\n",
    "x_2_0, x_dot_2_0 = -(m_1 / m_2) * x_1_0, -(m_1 / m_2) * x_dot_1_0\n",
    "y_2_0, y_dot_2_0 = -(m_1 / m_2) * y_1_0, -(m_1 / m_2) * y_dot_1_0\n",
    "\n",
    "z_0 = [x_1_0, x_dot_1_0, y_1_0, y_dot_1_0, x_2_0, x_dot_2_0, y_2_0, y_dot_2_0]\n",
    "x_1, x_dot_1, y_1, y_dot_1, x_2, x_dot_2, y_2, y_dot_2 = o1.solve_ode_Leapfrog_n(t_pts, z_0)\n",
    "\n",
    "#Start plotting\n",
    "fig = plt.figure(figsize=(5,5))\n",
    "\n",
    "#orbit plot\n",
    "ax = fig.add_subplot(1,1,1)\n",
    "\n",
    "start, stop = start_stop_indices(t_pts, t_start, t_end)\n",
    "ax.plot(x_1, y_1, color='blue', label=r'$m_1$')\n",
    "ax.plot(x_2, y_2, color='red', label=r'$m_2$')\n",
    "ax.set_title('Simple grav orbits')\n",
    "ax.legend()\n",
    "ax.set_aspect(1)\n",
    "\n",
    "fig.tight_layout()\n",
    "#fig.savefig()"
   ]
  },
  {
   "cell_type": "code",
   "execution_count": null,
   "metadata": {},
   "outputs": [],
   "source": []
  }
 ],
 "metadata": {
  "kernelspec": {
   "display_name": "Python 3.7 (py37)",
   "language": "python",
   "name": "py37"
  },
  "language_info": {
   "codemirror_mode": {
    "name": "ipython",
    "version": 3
   },
   "file_extension": ".py",
   "mimetype": "text/x-python",
   "name": "python",
   "nbconvert_exporter": "python",
   "pygments_lexer": "ipython3",
   "version": "3.7.4"
  }
 },
 "nbformat": 4,
 "nbformat_minor": 4
}
